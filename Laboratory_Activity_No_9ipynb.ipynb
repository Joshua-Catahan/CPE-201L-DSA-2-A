{
  "nbformat": 4,
  "nbformat_minor": 0,
  "metadata": {
    "colab": {
      "provenance": [],
      "authorship_tag": "ABX9TyNInsllqtacHITWLn9LFNEz",
      "include_colab_link": true
    },
    "kernelspec": {
      "name": "python3",
      "display_name": "Python 3"
    },
    "language_info": {
      "name": "python"
    }
  },
  "cells": [
    {
      "cell_type": "markdown",
      "metadata": {
        "id": "view-in-github",
        "colab_type": "text"
      },
      "source": [
        "<a href=\"https://colab.research.google.com/github/Joshua-Catahan/CPE-201L-DSA-2-A/blob/main/Laboratory_Activity_No_9ipynb.ipynb\" target=\"_parent\"><img src=\"https://colab.research.google.com/assets/colab-badge.svg\" alt=\"Open In Colab\"/></a>"
      ]
    },
    {
      "cell_type": "code",
      "execution_count": 8,
      "metadata": {
        "colab": {
          "base_uri": "https://localhost:8080/"
        },
        "id": "SaQOEXrYmDBw",
        "outputId": "72f0e5df-30e0-4d4c-aedb-92ddf42bf54b"
      },
      "outputs": [
        {
          "output_type": "stream",
          "name": "stdout",
          "text": [
            "Enqueued Element: 1\n",
            "Enqueued Element: 2\n",
            "Enqueued Element: 3\n",
            "Enqueued Element: 4\n",
            "Enqueued Element: 5\n",
            "The elements in the queue are: ['1', '2', '3', '4', '5']\n",
            "Dequeued element: 1\n",
            "Queue after one dequeue: ['2', '3', '4', '5']\n"
          ]
        }
      ],
      "source": [
        "# Queue implementation in Python (FIFO)\n",
        "\n",
        "# Creating a queue\n",
        "def create_queue():\n",
        "    queue = []\n",
        "    return queue\n",
        "\n",
        "# Check if the queue is empty\n",
        "def is_empty(queue):\n",
        "    return len(queue) == 0\n",
        "\n",
        "# Adding items into the queue (Enqueue)\n",
        "def enqueue(queue, item):\n",
        "    queue.append(item)\n",
        "    print(\"Enqueued Element: \" + item)\n",
        "\n",
        "# Removing an element from the queue (Dequeue)\n",
        "def dequeue(queue):\n",
        "    if is_empty(queue):\n",
        "        return \"The queue is empty\"\n",
        "    return queue.pop(0)\n",
        "\n",
        "# Main program\n",
        "queue = create_queue()\n",
        "enqueue(queue, str(1))\n",
        "enqueue(queue, str(2))\n",
        "enqueue(queue, str(3))\n",
        "enqueue(queue, str(4))\n",
        "enqueue(queue, str(5))\n",
        "\n",
        "print(\"The elements in the queue are: \" + str(queue))\n",
        "\n",
        "# Demonstrate FIFO removal\n",
        "print(\"Dequeued element:\", dequeue(queue))\n",
        "print(\"Queue after one dequeue:\", queue)\n"
      ]
    }
  ]
}