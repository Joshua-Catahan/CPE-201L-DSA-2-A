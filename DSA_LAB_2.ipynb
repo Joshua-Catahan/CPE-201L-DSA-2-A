{
  "nbformat": 4,
  "nbformat_minor": 0,
  "metadata": {
    "colab": {
      "provenance": [],
      "authorship_tag": "ABX9TyME33BF1SlIXyz0rj1KY34X",
      "include_colab_link": true
    },
    "kernelspec": {
      "name": "python3",
      "display_name": "Python 3"
    },
    "language_info": {
      "name": "python"
    }
  },
  "cells": [
    {
      "cell_type": "markdown",
      "metadata": {
        "id": "view-in-github",
        "colab_type": "text"
      },
      "source": [
        "<a href=\"https://colab.research.google.com/github/Joshua-Catahan/CPE-201L-DSA-2-A/blob/main/DSA_LAB_2.ipynb\" target=\"_parent\"><img src=\"https://colab.research.google.com/assets/colab-badge.svg\" alt=\"Open In Colab\"/></a>"
      ]
    },
    {
      "cell_type": "code",
      "execution_count": 1,
      "metadata": {
        "colab": {
          "base_uri": "https://localhost:8080/"
        },
        "id": "puH02-rfQLlo",
        "outputId": "b7725b63-efa2-418b-db44-ec6f6cae1830"
      },
      "outputs": [
        {
          "output_type": "stream",
          "name": "stdout",
          "text": [
            "Minimum: -100\n",
            "Maximum: 0\n"
          ]
        }
      ],
      "source": [
        "def find_min_max(numbers):\n",
        "    if len(numbers) == 1:\n",
        "        return numbers[0], numbers[0]\n",
        "    else:\n",
        "        min_value, max_value = find_min_max(numbers[1:])\n",
        "        return min(numbers[0], min_value), max(numbers[0], max_value)\n",
        "\n",
        "\n",
        "sample = [-100, -10, -1, 0]\n",
        "min_val, max_val = find_min_max(sample)\n",
        "\n",
        "print(\"Minimum:\", min_val)\n",
        "print(\"Maximum:\", max_val)\n"
      ]
    }
  ]
}