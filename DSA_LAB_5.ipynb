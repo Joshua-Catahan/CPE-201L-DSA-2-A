{
  "nbformat": 4,
  "nbformat_minor": 0,
  "metadata": {
    "colab": {
      "provenance": [],
      "authorship_tag": "ABX9TyPQVfC7Li++eoE4kdLe6znV",
      "include_colab_link": true
    },
    "kernelspec": {
      "name": "python3",
      "display_name": "Python 3"
    },
    "language_info": {
      "name": "python"
    }
  },
  "cells": [
    {
      "cell_type": "markdown",
      "metadata": {
        "id": "view-in-github",
        "colab_type": "text"
      },
      "source": [
        "<a href=\"https://colab.research.google.com/github/Joshua-Catahan/CPE-201L-DSA-2-A/blob/main/DSA_LAB_5.ipynb\" target=\"_parent\"><img src=\"https://colab.research.google.com/assets/colab-badge.svg\" alt=\"Open In Colab\"/></a>"
      ]
    },
    {
      "cell_type": "code",
      "execution_count": 4,
      "metadata": {
        "colab": {
          "base_uri": "https://localhost:8080/"
        },
        "id": "uCAOSt37me4Y",
        "outputId": "f37ef0e3-6fa6-4cb3-9364-91a058f2884b"
      },
      "outputs": [
        {
          "output_type": "stream",
          "name": "stdout",
          "text": [
            "----------------------------------------------------------------------\n",
            "Display array: [1, 2, 3, 4, 5, 6, 7, 8, 9, 10]\n",
            "Sum of all numbers: 55\n",
            "Index 0: 1\n",
            "Index 1: 2\n",
            "Index 2: 3\n",
            "Index 3: 4\n",
            "Index 4: 5\n",
            "Index 5: 6\n",
            "Index 6: 7\n",
            "Index 7: 8\n",
            "Index 8: 9\n",
            "Index 9: 10\n",
            "Append a number: 11\n",
            "With the appended number: [1, 2, 3, 4, 5, 6, 7, 8, 9, 10, 11]\n",
            "Insert a number: 222\n",
            "With the inserted number: [1, 222, 2, 3, 4, 5, 6, 7, 8, 9, 10, 11]\n",
            "----------------------------------------------------------------------\n",
            "Display array: [1, 2, 3, 4, 5]\n",
            "Reversing the array\n",
            "Index 0: 5\n",
            "Index 1: 4\n",
            "Index 2: 3\n",
            "Index 3: 2\n",
            "Index 4: 1\n",
            "----------------------------------------------------------------------\n",
            "Display array: [5, 4, 3, 2, 1]\n",
            "The length of this array is: 5\n"
          ]
        }
      ],
      "source": [
        "numbers = [1,2,3,4,5,6,7,8,9,10] #Original Array\n",
        "numbers_2 = [1,2,3,4,5] #Original Array\n",
        "numbers_3 = [5,4,3,2,1] #Original Array\n",
        "\n",
        "def show_array(self):\n",
        "    print(f'Display array: {self}')\n",
        "\n",
        "def calc_sum(self):\n",
        "    all_numbers = len(self)\n",
        "    if all_numbers == 0:\n",
        "        print(self)\n",
        "    elif all_numbers > 0:\n",
        "        print(f'Sum of all numbers: {sum(self)}')\n",
        "\n",
        "def index_array(self):\n",
        "    for i, element in enumerate(self):\n",
        "        print(f\"Index {i}: {element}\")\n",
        "\n",
        "def append_array(self):\n",
        "    self.append(int(input(f'Append a number: ')))\n",
        "    print(f'With the appended number: {self}')\n",
        "\n",
        "def insert_array(self):\n",
        "    self.insert(1, int(input(f'Insert a number: ')))\n",
        "    print(f'With the inserted number: {self}')\n",
        "\n",
        "def reverse_array(self):\n",
        "    print(\"Reversing the array\")\n",
        "    for i, element in enumerate(self[::-1]):\n",
        "        print(f\"Index {i}: {element}\")\n",
        "\n",
        "def show_length(self):\n",
        "    the_numbers = len(self)\n",
        "    print(f'The length of this array is: {the_numbers}')\n",
        "\n",
        "print('----------------------------------------------------------------------')\n",
        "show_array(numbers)\n",
        "calc_sum(numbers)\n",
        "index_array(numbers)\n",
        "append_array(numbers)\n",
        "insert_array(numbers)\n",
        "print('----------------------------------------------------------------------')\n",
        "show_array(numbers_2)\n",
        "reverse_array(numbers_2)\n",
        "print('----------------------------------------------------------------------')\n",
        "show_array(numbers_3)\n",
        "show_length(numbers_3)"
      ]
    }
  ]
}