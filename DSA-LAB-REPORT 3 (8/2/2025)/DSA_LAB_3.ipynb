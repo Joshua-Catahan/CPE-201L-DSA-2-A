{
  "nbformat": 4,
  "nbformat_minor": 0,
  "metadata": {
    "colab": {
      "provenance": [],
      "authorship_tag": "ABX9TyMQmUMtN5WX2P+qK+SwpqA6",
      "include_colab_link": true
    },
    "kernelspec": {
      "name": "python3",
      "display_name": "Python 3"
    },
    "language_info": {
      "name": "python"
    }
  },
  "cells": [
    {
      "cell_type": "markdown",
      "metadata": {
        "id": "view-in-github",
        "colab_type": "text"
      },
      "source": [
        "<a href=\"https://colab.research.google.com/github/Joshua-Catahan/CPE-201L-DSA-2-A/blob/main/DSA_LAB_3.ipynb\" target=\"_parent\"><img src=\"https://colab.research.google.com/assets/colab-badge.svg\" alt=\"Open In Colab\"/></a>"
      ]
    },
    {
      "cell_type": "code",
      "execution_count": 1,
      "metadata": {
        "colab": {
          "base_uri": "https://localhost:8080/"
        },
        "id": "D8Cfr0wcmlzn",
        "outputId": "415270e5-de77-419d-fa63-6285a43f7366"
      },
      "outputs": [
        {
          "output_type": "stream",
          "name": "stdout",
          "text": [
            "Sum of even numbers: 186\n"
          ]
        }
      ],
      "source": [
        "sum_even = 0\n",
        "\n",
        "List = [26, 49, 98, 87, 62, 75]\n",
        "\n",
        "for number in List:\n",
        "    if number % 2 == 0:\n",
        "        sum_even += number\n",
        "    else:\n",
        "        pass\n",
        "\n",
        "print(\"Sum of even numbers:\" , sum_even)\n"
      ]
    }
  ]
}