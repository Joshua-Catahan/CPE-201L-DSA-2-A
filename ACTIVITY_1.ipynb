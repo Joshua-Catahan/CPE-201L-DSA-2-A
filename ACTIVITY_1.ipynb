{
  "nbformat": 4,
  "nbformat_minor": 0,
  "metadata": {
    "colab": {
      "provenance": [],
      "authorship_tag": "ABX9TyP55hOaKhKxaCwes5PFAtHF",
      "include_colab_link": true
    },
    "kernelspec": {
      "name": "python3",
      "display_name": "Python 3"
    },
    "language_info": {
      "name": "python"
    }
  },
  "cells": [
    {
      "cell_type": "markdown",
      "metadata": {
        "id": "view-in-github",
        "colab_type": "text"
      },
      "source": [
        "<a href=\"https://colab.research.google.com/github/Joshua-Catahan/CPE-201L-DSA-2-A/blob/main/ACTIVITY_1.ipynb\" target=\"_parent\"><img src=\"https://colab.research.google.com/assets/colab-badge.svg\" alt=\"Open In Colab\"/></a>"
      ]
    },
    {
      "cell_type": "code",
      "source": [
        "import math\n",
        "\n",
        "print(\"Area of a circle\")\n",
        "print(\"----------------------------------------------------------------\")\n",
        "print(\"What is given, radius or diameter?\")\n",
        "print(\"(1) Radius\")\n",
        "print(\"(2) Diameter\")\n",
        "given = int(input(\"Given: \"))\n",
        "\n",
        "if given == 1:\n",
        "  radius = (float(input(\"Enter the radius = \")))\n",
        "  area = ((radius)**2) * math.pi\n",
        "  print(\"----------------------------------------------------------------\")\n",
        "  print(\"The area of a circle with radius\", radius, \"is\", area)\n",
        "  print(\"----------------------------------------------------------------\")\n",
        "elif given == 2:\n",
        "  diameter = (float(input(\"Enter the diameter = \")))\n",
        "  area = ((diameter/2)**2) * math.pi\n",
        "  print(\"----------------------------------------------------------------\")\n",
        "  print(\"The area of a circle with radius\", diameter, \"is\", area)\n",
        "  print(\"----------------------------------------------------------------\")\n",
        "else:\n",
        "  print(\"----------------------------------------------------------------\")\n",
        "  print(\"                       [Invalid input]                          \")\n",
        "  print(\"----------------------------------------------------------------\")"
      ],
      "metadata": {
        "colab": {
          "base_uri": "https://localhost:8080/"
        },
        "id": "4nlaGyuo1TbX",
        "outputId": "88407aaf-c2c7-4002-c79e-68df65b11315"
      },
      "execution_count": 6,
      "outputs": [
        {
          "output_type": "stream",
          "name": "stdout",
          "text": [
            "Area of a circle\n",
            "----------------------------------------------------------------\n",
            "What is given, radius or diameter?\n",
            "(1) Radius\n",
            "(2) Diameter\n",
            "Given: 5\n",
            "----------------------------------------------------------------\n",
            "                       [Invalid input]                          \n",
            "----------------------------------------------------------------\n"
          ]
        }
      ]
    }
  ]
}