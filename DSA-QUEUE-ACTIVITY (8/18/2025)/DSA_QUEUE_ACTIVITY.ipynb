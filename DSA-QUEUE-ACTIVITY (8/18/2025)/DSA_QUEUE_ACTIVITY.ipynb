{
  "nbformat": 4,
  "nbformat_minor": 0,
  "metadata": {
    "colab": {
      "provenance": [],
      "authorship_tag": "ABX9TyO2CZ+d4x71MDkFF3DjmQOt",
      "include_colab_link": true
    },
    "kernelspec": {
      "name": "python3",
      "display_name": "Python 3"
    },
    "language_info": {
      "name": "python"
    }
  },
  "cells": [
    {
      "cell_type": "markdown",
      "metadata": {
        "id": "view-in-github",
        "colab_type": "text"
      },
      "source": [
        "<a href=\"https://colab.research.google.com/github/Joshua-Catahan/CPE-201L-DSA-2-A/blob/main/DSA_QUEUE_ACTIVITY.ipynb\" target=\"_parent\"><img src=\"https://colab.research.google.com/assets/colab-badge.svg\" alt=\"Open In Colab\"/></a>"
      ]
    },
    {
      "cell_type": "markdown",
      "source": [
        "QUEUE"
      ],
      "metadata": {
        "id": "gDgKugi70iS8"
      }
    },
    {
      "cell_type": "code",
      "source": [
        "class Queue:\n",
        "    def __init__(self):\n",
        "        self.queue = []\n",
        "\n",
        "    def enqueue(self, dataval):\n",
        "        # Use list append method to add element\n",
        "        if dataval not in self.queue and len(self.queue) < 7:\n",
        "            self.queue.append(dataval)\n",
        "            return True\n",
        "        elif dataval in self.queue:\n",
        "            print(f'Cannot add \\'{dataval}\\', data already in queue')\n",
        "        elif len(self.queue) >= 7:\n",
        "            print(f'Cannot add \\'{dataval}\\', Queue is full')\n",
        "\n",
        "\n",
        "    def dequeue(self):\n",
        "        # Remove and return the top element (last in first out)\n",
        "        if len(self.queue) <= 0:\n",
        "            return \"Queue is empty\"\n",
        "        else:\n",
        "            return self.queue.pop(0)\n",
        "\n",
        "    def empty_queue(self):\n",
        "      if len(self.queue) <= 0:\n",
        "        print (\"Queue is empty\")\n",
        "      else:\n",
        "        print (\"Queue is not empty\")\n",
        "\n",
        "    def full_queue(self):\n",
        "      if len(self.queue) == 7:\n",
        "        print ('Queue is full')\n",
        "      else:\n",
        "        print(\"Queue is not full\")\n",
        "\n",
        "    def top_element(self):\n",
        "      if len(self.queue) <= 0:\n",
        "        print (\"Queue is empty\")\n",
        "      else:\n",
        "        print (f'The top element is: {self.queue[0]}')\n",
        "\n",
        "    def head_queue(self):\n",
        "      if len(self.queue) <= 0:\n",
        "        print (\"Queue is empty\")\n",
        "      else:\n",
        "        print (f'The head of the queue is: {self.queue[0]}')\n",
        "\n",
        "    def tail_queue(self):\n",
        "      if len(self.queue) <= 0:\n",
        "        return \"Queue is empty\"\n",
        "      else:\n",
        "        print (f'The tail of the queue is: {self.queue[-1]}')\n",
        "\n",
        "    def display(self):\n",
        "      for item in reversed(self.queue):    #stack = [\"Sun\",\"Mon\",\"Tues\",\"Wed\",\"Thurs\",\"Fri\",\"Sat\"]\n",
        "        print(item)\n",
        ""
      ],
      "metadata": {
        "id": "jRRNfVhryPEM"
      },
      "execution_count": 166,
      "outputs": []
    },
    {
      "cell_type": "code",
      "source": [
        "print(\"Queue (limit = 7):\")\n",
        "AQueue = Queue()\n",
        "AQueue.enqueue(\"First\")\n",
        "AQueue.enqueue(\"Second\")\n",
        "AQueue.enqueue(\"Third\")\n",
        "AQueue.enqueue(\"Fourth\")\n",
        "AQueue.enqueue(\"Fifth\")\n",
        "AQueue.enqueue(\"Sixth\")\n",
        "AQueue.enqueue(\"Seventh\")\n",
        "\n",
        "\n",
        "AQueue.enqueue(\"Eighth\")\n",
        "AQueue.display()\n"
      ],
      "metadata": {
        "colab": {
          "base_uri": "https://localhost:8080/"
        },
        "id": "m-TzcQamLwSP",
        "outputId": "d4e504eb-2bc2-44d3-b7b2-617f60654688"
      },
      "execution_count": 167,
      "outputs": [
        {
          "output_type": "stream",
          "name": "stdout",
          "text": [
            "Queue (limit = 7):\n",
            "Cannot add 'Eighth', Queue is full\n",
            "Seventh\n",
            "Sixth\n",
            "Fifth\n",
            "Fourth\n",
            "Third\n",
            "Second\n",
            "First\n"
          ]
        }
      ]
    },
    {
      "cell_type": "code",
      "source": [
        "print(\"Queue (limit = 7):\")\n",
        "AQueue = Queue()\n",
        "AQueue.enqueue(\"First\")\n",
        "AQueue.enqueue(\"Second\")\n",
        "AQueue.enqueue(\"Third\")\n",
        "AQueue.enqueue(\"Fourth\")\n",
        "AQueue.enqueue(\"Fifth\")\n",
        "AQueue.enqueue(\"Sixth\")\n",
        "AQueue.enqueue(\"Seventh\")\n",
        "\n",
        "AQueue.enqueue(\"Seventh\")\n",
        "AQueue.display()\n"
      ],
      "metadata": {
        "colab": {
          "base_uri": "https://localhost:8080/"
        },
        "id": "EFqsCe7YL4Cc",
        "outputId": "3987cfab-6f0e-4850-de5a-4b437b2cf69f"
      },
      "execution_count": 168,
      "outputs": [
        {
          "output_type": "stream",
          "name": "stdout",
          "text": [
            "Queue (limit = 7):\n",
            "Cannot add 'Seventh', data already in queue\n",
            "Seventh\n",
            "Sixth\n",
            "Fifth\n",
            "Fourth\n",
            "Third\n",
            "Second\n",
            "First\n"
          ]
        }
      ]
    },
    {
      "cell_type": "code",
      "source": [
        "print(\"Queue (limit = 7):\")\n",
        "AQueue = Queue()\n",
        "AQueue.enqueue(\"First\")\n",
        "AQueue.enqueue(\"Second\")\n",
        "AQueue.enqueue(\"Third\")\n",
        "AQueue.enqueue(\"Fourth\")\n",
        "AQueue.enqueue(\"Fifth\")\n",
        "AQueue.enqueue(\"Sixth\")\n",
        "AQueue.enqueue(\"Seventh\")\n",
        "\n",
        "AQueue.display()\n",
        "AQueue.full_queue()"
      ],
      "metadata": {
        "colab": {
          "base_uri": "https://localhost:8080/"
        },
        "id": "gmLxitf-MhjX",
        "outputId": "a9fd4c82-def9-4db6-d747-897e58b8e9b4"
      },
      "execution_count": 170,
      "outputs": [
        {
          "output_type": "stream",
          "name": "stdout",
          "text": [
            "Queue (limit = 7):\n",
            "Seventh\n",
            "Sixth\n",
            "Fifth\n",
            "Fourth\n",
            "Third\n",
            "Second\n",
            "First\n",
            "Queue is full\n"
          ]
        }
      ]
    },
    {
      "cell_type": "code",
      "source": [
        "print(\"Queue (limit = 7):\")\n",
        "AQueue = Queue()\n",
        "AQueue.enqueue(\"First\")\n",
        "AQueue.enqueue(\"Second\")\n",
        "AQueue.enqueue(\"Third\")\n",
        "AQueue.enqueue(\"Fourth\")\n",
        "AQueue.enqueue(\"Fifth\")\n",
        "AQueue.enqueue(\"Sixth\")\n",
        "AQueue.enqueue(\"Seventh\")\n",
        "\n",
        "AQueue.dequeue()\n",
        "AQueue.dequeue()\n",
        "AQueue.dequeue()\n",
        "AQueue.dequeue()\n",
        "AQueue.dequeue()\n",
        "AQueue.dequeue()\n",
        "AQueue.dequeue()\n",
        "\n",
        "AQueue.display()\n",
        "AQueue.empty_queue()"
      ],
      "metadata": {
        "colab": {
          "base_uri": "https://localhost:8080/"
        },
        "id": "S7hibyLVMsX_",
        "outputId": "6313d07b-288a-4c3f-b540-4ea380dbdec4"
      },
      "execution_count": 172,
      "outputs": [
        {
          "output_type": "stream",
          "name": "stdout",
          "text": [
            "Queue (limit = 7):\n",
            "Queue is empty\n"
          ]
        }
      ]
    },
    {
      "cell_type": "code",
      "source": [
        "print(\"Queue (limit = 7):\")\n",
        "AQueue = Queue()\n",
        "AQueue.enqueue(\"First\")\n",
        "AQueue.enqueue(\"Second\")\n",
        "AQueue.enqueue(\"Third\")\n",
        "AQueue.enqueue(\"Fourth\")\n",
        "AQueue.enqueue(\"Fifth\")\n",
        "AQueue.enqueue(\"Sixth\")\n",
        "AQueue.enqueue(\"Seventh\")\n",
        "\n",
        "AQueue.display()\n",
        "AQueue.top_element()"
      ],
      "metadata": {
        "colab": {
          "base_uri": "https://localhost:8080/"
        },
        "id": "7yc3bKhEM6bB",
        "outputId": "38f9c0b2-71dd-4ec7-9d08-6ad6fe15e3a2"
      },
      "execution_count": 173,
      "outputs": [
        {
          "output_type": "stream",
          "name": "stdout",
          "text": [
            "Queue (limit = 7):\n",
            "Seventh\n",
            "Sixth\n",
            "Fifth\n",
            "Fourth\n",
            "Third\n",
            "Second\n",
            "First\n",
            "The top element is: First\n"
          ]
        }
      ]
    },
    {
      "cell_type": "code",
      "source": [
        "print(\"Queue (limit = 7):\")\n",
        "AQueue = Queue()\n",
        "AQueue.enqueue(\"First\")\n",
        "AQueue.enqueue(\"Second\")\n",
        "AQueue.enqueue(\"Third\")\n",
        "AQueue.enqueue(\"Fourth\")\n",
        "AQueue.enqueue(\"Fifth\")\n",
        "AQueue.enqueue(\"Sixth\")\n",
        "AQueue.enqueue(\"Seventh\")\n",
        "\n",
        "AQueue.display()\n",
        "AQueue.head_queue()"
      ],
      "metadata": {
        "colab": {
          "base_uri": "https://localhost:8080/"
        },
        "id": "uaK5slZGNA2j",
        "outputId": "6f4b6211-f6b6-4eaf-8937-15b11e683c03"
      },
      "execution_count": 174,
      "outputs": [
        {
          "output_type": "stream",
          "name": "stdout",
          "text": [
            "Queue (limit = 7):\n",
            "Seventh\n",
            "Sixth\n",
            "Fifth\n",
            "Fourth\n",
            "Third\n",
            "Second\n",
            "First\n",
            "The head of the queue is: First\n"
          ]
        }
      ]
    },
    {
      "cell_type": "code",
      "source": [
        "print(\"Queue (limit = 7):\")\n",
        "AQueue = Queue()\n",
        "AQueue.enqueue(\"First\")\n",
        "AQueue.enqueue(\"Second\")\n",
        "AQueue.enqueue(\"Third\")\n",
        "AQueue.enqueue(\"Fourth\")\n",
        "AQueue.enqueue(\"Fifth\")\n",
        "AQueue.enqueue(\"Sixth\")\n",
        "AQueue.enqueue(\"Seventh\")\n",
        "\n",
        "AQueue.display()\n",
        "AQueue.tail_queue()"
      ],
      "metadata": {
        "colab": {
          "base_uri": "https://localhost:8080/"
        },
        "id": "v88szjaFNEby",
        "outputId": "ae1e6577-01b5-409b-933e-468455316e54"
      },
      "execution_count": 175,
      "outputs": [
        {
          "output_type": "stream",
          "name": "stdout",
          "text": [
            "Queue (limit = 7):\n",
            "Seventh\n",
            "Sixth\n",
            "Fifth\n",
            "Fourth\n",
            "Third\n",
            "Second\n",
            "First\n",
            "The tail of the queue is: Seventh\n"
          ]
        }
      ]
    }
  ]
}