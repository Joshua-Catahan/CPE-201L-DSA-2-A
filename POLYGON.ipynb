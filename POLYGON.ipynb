{
  "nbformat": 4,
  "nbformat_minor": 0,
  "metadata": {
    "colab": {
      "provenance": [],
      "authorship_tag": "ABX9TyM8SkreB4HnlBz9a1zlBmM2",
      "include_colab_link": true
    },
    "kernelspec": {
      "name": "python3",
      "display_name": "Python 3"
    },
    "language_info": {
      "name": "python"
    }
  },
  "cells": [
    {
      "cell_type": "markdown",
      "metadata": {
        "id": "view-in-github",
        "colab_type": "text"
      },
      "source": [
        "<a href=\"https://colab.research.google.com/github/Joshua-Catahan/CPE-201L-DSA-2-A/blob/main/POLYGON.ipynb\" target=\"_parent\"><img src=\"https://colab.research.google.com/assets/colab-badge.svg\" alt=\"Open In Colab\"/></a>"
      ]
    },
    {
      "cell_type": "code",
      "execution_count": 1,
      "metadata": {
        "colab": {
          "base_uri": "https://localhost:8080/"
        },
        "id": "J816-7U5D38f",
        "outputId": "32703a7c-4e91-4038-ef3e-caf9bf462425"
      },
      "outputs": [
        {
          "output_type": "stream",
          "name": "stdout",
          "text": [
            "Name: Hexagon\n",
            "Sides: 6\n",
            "Area: 25.9\n",
            "\n",
            "Updated Values:\n",
            "Name: Octagon\n",
            "Sides: 8\n",
            "Area: 70.5\n"
          ]
        }
      ],
      "source": [
        "class Polygon:\n",
        "    def __init__(self, name, sides, area):\n",
        "        self.name = name        # string\n",
        "        self.sides = sides      # int\n",
        "        self.area = area        # float\n",
        "\n",
        "    def get_name(self):\n",
        "        return self.name\n",
        "\n",
        "    def set_name(self, new_name):\n",
        "        self.name = new_name\n",
        "\n",
        "    def get_sides(self):\n",
        "        return self.sides\n",
        "\n",
        "    def set_sides(self, new_sides):\n",
        "        self.sides = new_sides\n",
        "\n",
        "    def get_area(self):\n",
        "        return self.area\n",
        "\n",
        "    def set_area(self, new_area):\n",
        "        self.area = new_area\n",
        "\n",
        "    def show_updated_values(self):\n",
        "        print(\"\\nUpdated Values:\")\n",
        "        print(\"Name:\", self.get_name())\n",
        "        print(\"Sides:\", self.get_sides())\n",
        "        print(\"Area:\", self.get_area())\n",
        "\n",
        "# Create object\n",
        "pol1 = Polygon('Hexagon', 6, 25.9)\n",
        "\n",
        "# Display initial values\n",
        "print(\"Name:\", pol1.get_name())\n",
        "print(\"Sides:\", pol1.get_sides())\n",
        "print(\"Area:\", pol1.get_area())\n",
        "\n",
        "# Update values\n",
        "pol1.set_name(\"Octagon\")\n",
        "pol1.set_sides(8)\n",
        "pol1.set_area(70.5)\n",
        "\n",
        "# Show updated values\n",
        "pol1.show_updated_values()\n"
      ]
    }
  ]
}