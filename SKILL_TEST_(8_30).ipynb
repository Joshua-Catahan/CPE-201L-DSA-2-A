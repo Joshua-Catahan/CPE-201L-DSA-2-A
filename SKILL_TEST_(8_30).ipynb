{
  "nbformat": 4,
  "nbformat_minor": 0,
  "metadata": {
    "colab": {
      "provenance": [],
      "authorship_tag": "ABX9TyPl3shSIjEQb9XdXdO2hd6G",
      "include_colab_link": true
    },
    "kernelspec": {
      "name": "python3",
      "display_name": "Python 3"
    },
    "language_info": {
      "name": "python"
    }
  },
  "cells": [
    {
      "cell_type": "markdown",
      "metadata": {
        "id": "view-in-github",
        "colab_type": "text"
      },
      "source": [
        "<a href=\"https://colab.research.google.com/github/Joshua-Catahan/CPE-201L-DSA-2-A/blob/main/SKILL_TEST_(8_30).ipynb\" target=\"_parent\"><img src=\"https://colab.research.google.com/assets/colab-badge.svg\" alt=\"Open In Colab\"/></a>"
      ]
    },
    {
      "cell_type": "code",
      "execution_count": 1,
      "metadata": {
        "colab": {
          "base_uri": "https://localhost:8080/"
        },
        "id": "Iofze0iVuJ6S",
        "outputId": "5de60fd9-c63b-4703-ef72-36fea0d78c34"
      },
      "outputs": [
        {
          "name": "stdout",
          "output_type": "stream",
          "text": [
            "Singly linked list: \n",
            "1. Traverse\n",
            "2. Append as whole\n",
            "3. Append per letters\n",
            "4. Exit\n",
            "Enter your choice: 3\n",
            "Enter your name: JOSHUA AGUILOS CATAHAN\n",
            "Singly linked list: \n",
            "1. Traverse\n",
            "2. Append as whole\n",
            "3. Append per letters\n",
            "4. Exit\n",
            "Enter your choice: 1\n",
            "J -> O -> S -> H -> U -> A ->   -> A -> G -> U -> I -> L -> O -> S ->   -> C -> A -> T -> A -> H -> A -> N -> None\n",
            "Singly linked list: \n",
            "1. Traverse\n",
            "2. Append as whole\n",
            "3. Append per letters\n",
            "4. Exit\n",
            "Enter your choice: 4\n"
          ]
        }
      ],
      "source": [
        "class Node():\n",
        "    def __init__ (self, data):\n",
        "        self.data = data\n",
        "        self.next = None\n",
        "\n",
        "class LinkedList():\n",
        "    def __init__(self):\n",
        "        self.head = None\n",
        "\n",
        "    def append(self, data):\n",
        "        new_node = Node(data)\n",
        "        if self.head is None:\n",
        "             self.head = new_node\n",
        "             return\n",
        "        current = self.head\n",
        "        while current.next:\n",
        "            current = current.next\n",
        "        current.next = new_node\n",
        "\n",
        "    def traverse(self):\n",
        "        current = self.head\n",
        "        while current:\n",
        "            print(current.data, end=\" -> \")\n",
        "            current = current.next\n",
        "        print(\"None\")\n",
        "\n",
        "    def get_link(self):\n",
        "        current = self.head\n",
        "\n",
        "if __name__ == \"__main__\":\n",
        "    ll = LinkedList()\n",
        "    while True:\n",
        "        print(\"Singly linked list: \")\n",
        "        print(\"1. Traverse\")\n",
        "        print(\"2. Append as whole\")\n",
        "        print(\"3. Append per letters\")\n",
        "        print(\"4. Exit\")\n",
        "        choice = int(input(\"Enter your choice: \"))\n",
        "        if choice == 1:\n",
        "            ll.traverse()\n",
        "        elif choice == 2:\n",
        "            data = str(input(\"Enter a letter of your name: \"))\n",
        "            ll.append(data)\n",
        "        elif choice == 3:\n",
        "            data = str(input(\"Enter your name: \"))\n",
        "            for i in data:\n",
        "                ll.append(i)\n",
        "        elif choice == 4:\n",
        "            break\n",
        "        else:\n",
        "            print(\"Enter a valid number\")"
      ]
    }
  ]
}