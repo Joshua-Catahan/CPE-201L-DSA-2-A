{
  "nbformat": 4,
  "nbformat_minor": 0,
  "metadata": {
    "colab": {
      "provenance": [],
      "authorship_tag": "ABX9TyP10i1dtHKK4895/OQFD9+b",
      "include_colab_link": true
    },
    "kernelspec": {
      "name": "python3",
      "display_name": "Python 3"
    },
    "language_info": {
      "name": "python"
    }
  },
  "cells": [
    {
      "cell_type": "markdown",
      "metadata": {
        "id": "view-in-github",
        "colab_type": "text"
      },
      "source": [
        "<a href=\"https://colab.research.google.com/github/Joshua-Catahan/CPE-201L-DSA-2-A/blob/main/DSA_LAB_6.ipynb\" target=\"_parent\"><img src=\"https://colab.research.google.com/assets/colab-badge.svg\" alt=\"Open In Colab\"/></a>"
      ]
    },
    {
      "cell_type": "code",
      "source": [
        "# Node to store each prime number\n",
        "class Node:\n",
        "    def __init__(self, data):\n",
        "        self.data = data\n",
        "        self.next = None\n",
        "\n",
        "# Linked list to hold prime numbers\n",
        "class LinkedList:\n",
        "    def __init__(self):\n",
        "        self.head = None\n",
        "\n",
        "    def add(self, data):\n",
        "        new_node = Node(data)\n",
        "        if not self.head:\n",
        "            self.head = new_node\n",
        "        else:\n",
        "            current = self.head\n",
        "            while current.next:\n",
        "                current = current.next\n",
        "            current.next = new_node\n",
        "\n",
        "    def show(self):\n",
        "        current = self.head\n",
        "        print(\"Prime numbers:\")\n",
        "        while current:\n",
        "            print(current.data, end=\" \")\n",
        "            current = current.next\n",
        "        print()\n",
        "\n",
        "    def head_tail(self):\n",
        "        if not self.head:\n",
        "            return None, None\n",
        "        prime_tail = self.head\n",
        "        while prime_tail.next:\n",
        "            prime_tail = prime_tail.next\n",
        "        return self.head.data, prime_tail.data\n",
        "\n",
        "# Check if a number is prime\n",
        "def check_prime(n):\n",
        "    if n < 2:\n",
        "        return False\n",
        "    for i in range(2, int(n**0.5)+1):\n",
        "        if n % i == 0:\n",
        "            return False\n",
        "    return True\n",
        "\n",
        "def main():\n",
        "    prime_list = LinkedList()\n",
        "    try:\n",
        "        input_value = int(input(\"Enter the range of prime numbers: \"))\n",
        "        if input_value < 0:\n",
        "            print(\"Please enter a non-negative integer.\")\n",
        "            return\n",
        "    except ValueError:\n",
        "        print(\"Invalid input. Please enter an integer.\")\n",
        "        return\n",
        "    for i in range(input_value):\n",
        "        if check_prime(i):\n",
        "            prime_list.add(i)\n",
        "    prime_list.show()\n",
        "    head, tail = prime_list.head_tail()\n",
        "    print(\"Head:\", head)\n",
        "    print(\"Tail:\", tail)\n",
        "\n",
        "if __name__ == '__main__':\n",
        "    main()"
      ],
      "metadata": {
        "id": "xJdKQY3rPOlU",
        "colab": {
          "base_uri": "https://localhost:8080/"
        },
        "outputId": "38da1403-8473-4960-ca68-e705f96d649f"
      },
      "execution_count": 26,
      "outputs": [
        {
          "output_type": "stream",
          "name": "stdout",
          "text": [
            "Enter the range of prime numbers: 20\n",
            "Prime numbers:\n",
            "2 3 5 7 11 13 17 19 \n",
            "Head: 2\n",
            "Tail: 19\n"
          ]
        }
      ]
    },
    {
      "cell_type": "code",
      "source": [
        "if __name__ == '__main__':\n",
        "    main()"
      ],
      "metadata": {
        "colab": {
          "base_uri": "https://localhost:8080/"
        },
        "id": "bvUwltsFg4dp",
        "outputId": "3ce6f45a-0424-422f-86e3-561cec1c1538"
      },
      "execution_count": 24,
      "outputs": [
        {
          "output_type": "stream",
          "name": "stdout",
          "text": [
            "Enter the range of prime numbers: -1\n",
            "Please enter a non-negative integer.\n"
          ]
        }
      ]
    },
    {
      "cell_type": "code",
      "source": [
        "if __name__ == '__main__':\n",
        "    main()"
      ],
      "metadata": {
        "colab": {
          "base_uri": "https://localhost:8080/"
        },
        "id": "SEOv0WQog9H4",
        "outputId": "d6d261a7-55d4-4d1f-c0cd-8d2354cfe122"
      },
      "execution_count": 25,
      "outputs": [
        {
          "output_type": "stream",
          "name": "stdout",
          "text": [
            "Enter the range of prime numbers: s\n",
            "Invalid input. Please enter an integer.\n"
          ]
        }
      ]
    }
  ]
}